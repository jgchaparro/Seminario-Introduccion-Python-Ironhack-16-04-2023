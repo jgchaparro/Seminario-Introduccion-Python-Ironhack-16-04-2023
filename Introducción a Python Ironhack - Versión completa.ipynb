{
 "cells": [
  {
   "cell_type": "markdown",
   "metadata": {},
   "source": [
    "# Introducción a Python\n",
    "\n",
    "Seminario impartido el 16 de abril de 2023 en Ironhack Madrid por Jaime García Chaparro."
   ]
  },
  {
   "attachments": {},
   "cell_type": "markdown",
   "metadata": {},
   "source": [
    "# Visión general"
   ]
  },
  {
   "cell_type": "markdown",
   "metadata": {},
   "source": [
    "## ¿Qué es Python?"
   ]
  },
  {
   "attachments": {},
   "cell_type": "markdown",
   "metadata": {},
   "source": [
    "* Python es un lenguaje de programación popular de alto nivel. \n",
    "* Utilizado en multitud de campos: desde aplicaciones web hasta el análisis de datos. \n",
    "* Destaca por su simplicidad y facilidad de uso.\n",
    "* Excelente para principiantes."
   ]
  },
  {
   "attachments": {},
   "cell_type": "markdown",
   "metadata": {},
   "source": [
    "## Versiones de Python"
   ]
  },
  {
   "attachments": {},
   "cell_type": "markdown",
   "metadata": {},
   "source": [
    "* La versión más reciente de Python es la 3.11\n",
    "* Algunas aplicaciones antiguas aún funcionan con Python 2.7"
   ]
  },
  {
   "cell_type": "markdown",
   "metadata": {},
   "source": [
    "## Requisitos"
   ]
  },
  {
   "cell_type": "markdown",
   "metadata": {},
   "source": [
    "* Python instalado en el equipo\n",
    "* Un entorno de desarrollo (IDE) como PyCharm o VS Code."
   ]
  },
  {
   "attachments": {},
   "cell_type": "markdown",
   "metadata": {},
   "source": [
    "# Variables y tipos de dato"
   ]
  },
  {
   "cell_type": "markdown",
   "metadata": {},
   "source": [
    "* Las variables son utilizadas para almacenar valores en Python.\n",
    "* Python cuenta con diferentes tipos de datos:"
   ]
  },
  {
   "cell_type": "markdown",
   "metadata": {},
   "source": [
    "### Cadenas de texto (string)"
   ]
  },
  {
   "cell_type": "code",
   "execution_count": 6,
   "metadata": {},
   "outputs": [
    {
     "data": {
      "text/plain": [
       "str"
      ]
     },
     "execution_count": 6,
     "metadata": {},
     "output_type": "execute_result"
    }
   ],
   "source": [
    "# O simples o dobles, pero siempre con el mismo tipo de comillas\n",
    "x = 'Ironhack'\n",
    "x"
   ]
  },
  {
   "cell_type": "code",
   "execution_count": 7,
   "metadata": {},
   "outputs": [
    {
     "data": {
      "text/plain": [
       "str"
      ]
     },
     "execution_count": 7,
     "metadata": {},
     "output_type": "execute_result"
    }
   ],
   "source": [
    "type(x)"
   ]
  },
  {
   "cell_type": "markdown",
   "metadata": {},
   "source": [
    "### Enteros (integers)"
   ]
  },
  {
   "cell_type": "code",
   "execution_count": 5,
   "metadata": {},
   "outputs": [
    {
     "data": {
      "text/plain": [
       "4"
      ]
     },
     "execution_count": 5,
     "metadata": {},
     "output_type": "execute_result"
    }
   ],
   "source": [
    "x = 4\n",
    "x"
   ]
  },
  {
   "cell_type": "markdown",
   "metadata": {},
   "source": [
    "### Flotantes (float)"
   ]
  },
  {
   "cell_type": "code",
   "execution_count": 4,
   "metadata": {},
   "outputs": [
    {
     "data": {
      "text/plain": [
       "4.5"
      ]
     },
     "execution_count": 4,
     "metadata": {},
     "output_type": "execute_result"
    }
   ],
   "source": [
    "x = 4.5\n",
    "x"
   ]
  },
  {
   "attachments": {},
   "cell_type": "markdown",
   "metadata": {},
   "source": [
    "### Booleanos"
   ]
  },
  {
   "cell_type": "code",
   "execution_count": null,
   "metadata": {},
   "outputs": [],
   "source": [
    "x = True\n",
    "x = False"
   ]
  },
  {
   "cell_type": "markdown",
   "metadata": {},
   "source": [
    "### Otros tipos"
   ]
  },
  {
   "cell_type": "code",
   "execution_count": 8,
   "metadata": {},
   "outputs": [
    {
     "data": {
      "text/plain": [
       "complex"
      ]
     },
     "execution_count": 8,
     "metadata": {},
     "output_type": "execute_result"
    }
   ],
   "source": [
    "x = 4j\n",
    "type(x)"
   ]
  },
  {
   "attachments": {},
   "cell_type": "markdown",
   "metadata": {},
   "source": [
    "### Extra: comentarios\n",
    "\n",
    "Son líneas de texto que Python no lee. Sirven para explicar tu código, dejar notas... Te harán falta cuando vuelvas a tu código después de un tiempo.\n"
   ]
  },
  {
   "cell_type": "code",
   "execution_count": 26,
   "metadata": {},
   "outputs": [],
   "source": [
    "# Esto es un comentario\n",
    "# Es más útil de lo que parece\n",
    "# De verdad, comenta"
   ]
  },
  {
   "attachments": {},
   "cell_type": "markdown",
   "metadata": {},
   "source": [
    "## Operadores\n",
    "\n",
    "* Python tiene diferentes tipos de operadores, incluyendo:\n",
    "  * Operadores aritméticos (+, -, *, /, //, %, **)\n",
    "  * Operadores de comparación (==, !=, <, >, <=, >=)\n",
    "  * Operadores lógicos (and, or, not)"
   ]
  },
  {
   "cell_type": "markdown",
   "metadata": {},
   "source": [
    "## Operadores artiméticos"
   ]
  },
  {
   "cell_type": "code",
   "execution_count": 29,
   "metadata": {},
   "outputs": [
    {
     "data": {
      "text/plain": [
       "2"
      ]
     },
     "execution_count": 29,
     "metadata": {},
     "output_type": "execute_result"
    }
   ],
   "source": [
    "# Suma\n",
    "1 +1"
   ]
  },
  {
   "cell_type": "code",
   "execution_count": 31,
   "metadata": {},
   "outputs": [
    {
     "data": {
      "text/plain": [
       "-2"
      ]
     },
     "execution_count": 31,
     "metadata": {},
     "output_type": "execute_result"
    }
   ],
   "source": [
    "# Resta\n",
    "2 - 4"
   ]
  },
  {
   "cell_type": "code",
   "execution_count": 32,
   "metadata": {},
   "outputs": [
    {
     "data": {
      "text/plain": [
       "12"
      ]
     },
     "execution_count": 32,
     "metadata": {},
     "output_type": "execute_result"
    }
   ],
   "source": [
    "# Multiplicación\n",
    "3 * 4"
   ]
  },
  {
   "cell_type": "code",
   "execution_count": 33,
   "metadata": {},
   "outputs": [
    {
     "data": {
      "text/plain": [
       "1024"
      ]
     },
     "execution_count": 33,
     "metadata": {},
     "output_type": "execute_result"
    }
   ],
   "source": [
    "# Elevar a la potencia\n",
    "2 ** 10"
   ]
  },
  {
   "cell_type": "code",
   "execution_count": 12,
   "metadata": {},
   "outputs": [
    {
     "data": {
      "text/plain": [
       "2.0"
      ]
     },
     "execution_count": 12,
     "metadata": {},
     "output_type": "execute_result"
    }
   ],
   "source": [
    "# Division\n",
    "8 / 4"
   ]
  },
  {
   "cell_type": "code",
   "execution_count": 34,
   "metadata": {},
   "outputs": [
    {
     "data": {
      "text/plain": [
       "2"
      ]
     },
     "execution_count": 34,
     "metadata": {},
     "output_type": "execute_result"
    }
   ],
   "source": [
    "# Division entera\n",
    "10 // 4"
   ]
  },
  {
   "cell_type": "code",
   "execution_count": 35,
   "metadata": {},
   "outputs": [
    {
     "data": {
      "text/plain": [
       "1"
      ]
     },
     "execution_count": 35,
     "metadata": {},
     "output_type": "execute_result"
    }
   ],
   "source": [
    "# Módulo\n",
    "10 % 3"
   ]
  },
  {
   "attachments": {},
   "cell_type": "markdown",
   "metadata": {},
   "source": [
    "## Operadores de comparación"
   ]
  },
  {
   "attachments": {},
   "cell_type": "markdown",
   "metadata": {},
   "source": [
    "Evalúan una expresión y devuelven un booleano."
   ]
  },
  {
   "cell_type": "code",
   "execution_count": 18,
   "metadata": {},
   "outputs": [],
   "source": [
    "x = 10"
   ]
  },
  {
   "cell_type": "code",
   "execution_count": 19,
   "metadata": {},
   "outputs": [
    {
     "data": {
      "text/plain": [
       "True"
      ]
     },
     "execution_count": 19,
     "metadata": {},
     "output_type": "execute_result"
    }
   ],
   "source": [
    "# Es igual a...\n",
    "x == 10"
   ]
  },
  {
   "cell_type": "code",
   "execution_count": 20,
   "metadata": {},
   "outputs": [
    {
     "data": {
      "text/plain": [
       "False"
      ]
     },
     "execution_count": 20,
     "metadata": {},
     "output_type": "execute_result"
    }
   ],
   "source": [
    "# Es distinto a...\n",
    "x != 10"
   ]
  },
  {
   "cell_type": "code",
   "execution_count": 21,
   "metadata": {},
   "outputs": [
    {
     "data": {
      "text/plain": [
       "False"
      ]
     },
     "execution_count": 21,
     "metadata": {},
     "output_type": "execute_result"
    }
   ],
   "source": [
    "# Mayor/menor que\n",
    "x > 10"
   ]
  },
  {
   "cell_type": "code",
   "execution_count": 22,
   "metadata": {},
   "outputs": [
    {
     "data": {
      "text/plain": [
       "True"
      ]
     },
     "execution_count": 22,
     "metadata": {},
     "output_type": "execute_result"
    }
   ],
   "source": [
    "# Mayor/menor o igual que\n",
    "x >= 10"
   ]
  },
  {
   "attachments": {},
   "cell_type": "markdown",
   "metadata": {},
   "source": [
    "## Operadores lógicos"
   ]
  },
  {
   "cell_type": "markdown",
   "metadata": {},
   "source": [
    "Evalúan una expresión y devuelven un booleano."
   ]
  },
  {
   "cell_type": "code",
   "execution_count": 37,
   "metadata": {},
   "outputs": [
    {
     "data": {
      "text/plain": [
       "True"
      ]
     },
     "execution_count": 37,
     "metadata": {},
     "output_type": "execute_result"
    }
   ],
   "source": [
    "# and\n",
    "x > 5 and x < 20"
   ]
  },
  {
   "cell_type": "code",
   "execution_count": 39,
   "metadata": {},
   "outputs": [
    {
     "data": {
      "text/plain": [
       "True"
      ]
     },
     "execution_count": 39,
     "metadata": {},
     "output_type": "execute_result"
    }
   ],
   "source": [
    "# or\n",
    "x > 5 or x > 20"
   ]
  },
  {
   "cell_type": "code",
   "execution_count": 40,
   "metadata": {},
   "outputs": [
    {
     "data": {
      "text/plain": [
       "False"
      ]
     },
     "execution_count": 40,
     "metadata": {},
     "output_type": "execute_result"
    }
   ],
   "source": [
    "# not - Devuelve el contrario\n",
    "not x > 5"
   ]
  },
  {
   "attachments": {},
   "cell_type": "markdown",
   "metadata": {},
   "source": [
    "# Entrada y salida básica"
   ]
  },
  {
   "cell_type": "code",
   "execution_count": 41,
   "metadata": {},
   "outputs": [],
   "source": [
    "# Entrada\n",
    "entrada = input('Introduce un número: ')"
   ]
  },
  {
   "cell_type": "code",
   "execution_count": 42,
   "metadata": {},
   "outputs": [
    {
     "name": "stdout",
     "output_type": "stream",
     "text": [
      "3\n"
     ]
    }
   ],
   "source": [
    "# Salida\n",
    "print(entrada)"
   ]
  },
  {
   "cell_type": "markdown",
   "metadata": {},
   "source": [
    "# Control de flujo"
   ]
  },
  {
   "attachments": {},
   "cell_type": "markdown",
   "metadata": {},
   "source": [
    "* El control de flujo se utiliza para tomar decisiones en base a unos valores.\n",
    "* Python tiene diferentes tipos de estructuras de control de flujo, incluyendo:\n",
    "  * Condicionales `if-else`: se utilizan para tomar decisiones basadas en una condición.\n",
    "  * Bucles `for`: se utilizan para iterar sobre una secuencia de elementos.\n",
    "  * Bucles `while`: se utilizan para repetir una acción mientras se cumpla una condición.\n",
    "* Los bloques de código de una función se identifican con la sangría (indentación)."
   ]
  },
  {
   "cell_type": "code",
   "execution_count": 44,
   "metadata": {},
   "outputs": [
    {
     "name": "stdout",
     "output_type": "stream",
     "text": [
      "x es menor que 5\n"
     ]
    }
   ],
   "source": [
    "# if-else\n",
    "x = 10\n",
    "\n",
    "if x > 5:\n",
    "    print('x es mayor que 5')\n",
    "else:\n",
    "    print('x es menor que 5')"
   ]
  },
  {
   "cell_type": "code",
   "execution_count": null,
   "metadata": {},
   "outputs": [],
   "source": [
    "# if-elif-else\n",
    "x = 10\n",
    "if x > 5:\n",
    "    print('x es mayor que 5')\n",
    "elif x == 5:\n",
    "    print('x es igual a 5')\n",
    "else:\n",
    "    print('x es menor que 5')"
   ]
  },
  {
   "cell_type": "code",
   "execution_count": 46,
   "metadata": {},
   "outputs": [
    {
     "name": "stdout",
     "output_type": "stream",
     "text": [
      "I\n",
      "r\n",
      "o\n",
      "n\n",
      "h\n",
      "a\n",
      "c\n",
      "k\n"
     ]
    }
   ],
   "source": [
    "# for\n",
    "x = 'Ironhack'\n",
    "for letra in x:\n",
    "    print(letra)"
   ]
  },
  {
   "cell_type": "code",
   "execution_count": 47,
   "metadata": {},
   "outputs": [
    {
     "name": "stdout",
     "output_type": "stream",
     "text": [
      "0\n",
      "1\n",
      "2\n",
      "3\n",
      "4\n",
      "5\n",
      "6\n",
      "7\n",
      "8\n",
      "9\n"
     ]
    }
   ],
   "source": [
    "# while\n",
    "# Ejecuta el código mientras la condición sea verdadera\n",
    "x = 0\n",
    "while x < 10:\n",
    "    print(x)\n",
    "    x = x + 1"
   ]
  },
  {
   "cell_type": "code",
   "execution_count": 49,
   "metadata": {},
   "outputs": [],
   "source": [
    "# Mucho cuidado con los bucles infinitos\n",
    "# while True:\n",
    "#     print('Esto es un bucle infinito')"
   ]
  },
  {
   "cell_type": "code",
   "execution_count": 51,
   "metadata": {},
   "outputs": [
    {
     "name": "stdout",
     "output_type": "stream",
     "text": [
      "X es menor o igual que 5\n",
      "X es menor o igual que 5\n",
      "X es menor o igual que 5\n",
      "X es menor o igual que 5\n",
      "X es menor o igual que 5\n",
      "X es menor o igual que 5\n",
      "X es mayor que 5\n",
      "X es mayor que 5\n",
      "X es mayor que 5\n",
      "X es mayor que 5\n"
     ]
    }
   ],
   "source": [
    "# Puedes mezclar bucles y condicionales\n",
    "x = 0\n",
    "while x < 10:\n",
    "    if x <= 5:\n",
    "        print('X es menor o igual que 5')\n",
    "    else:\n",
    "        print('X es mayor que 5')\n",
    "    \n",
    "    x = x + 1"
   ]
  },
  {
   "cell_type": "code",
   "execution_count": 52,
   "metadata": {},
   "outputs": [
    {
     "name": "stdout",
     "output_type": "stream",
     "text": [
      "I\n",
      "r\n",
      "o\n",
      "n\n",
      "h\n",
      "a\n"
     ]
    }
   ],
   "source": [
    "# break - Rompe el bucle\n",
    "x = 0\n",
    "for letra in 'Ironhack':\n",
    "    print(letra)\n",
    "    if letra == 'a':\n",
    "        break"
   ]
  },
  {
   "cell_type": "markdown",
   "metadata": {},
   "source": [
    "# Funciones"
   ]
  },
  {
   "attachments": {},
   "cell_type": "markdown",
   "metadata": {},
   "source": [
    "* Las funciones son bloques de código que realizan una tarea específica.\n",
    "* Son útiles para reutilizar código y mantenerlo organizado.\n",
    "\n",
    "FOTO PARTES DE FUNCIÓN\n",
    "\n",
    "* Las funciones en Python se definen con la palabra clave `def`."
   ]
  },
  {
   "cell_type": "code",
   "execution_count": 53,
   "metadata": {},
   "outputs": [],
   "source": [
    "# Función para multiplicar dos números\n",
    "# Ojo a las indentaciones\n",
    "def multiplicar(x, y):\n",
    "    resultado = x * y\n",
    "    return resultado"
   ]
  },
  {
   "cell_type": "code",
   "execution_count": 56,
   "metadata": {},
   "outputs": [
    {
     "data": {
      "text/plain": [
       "6"
      ]
     },
     "execution_count": 56,
     "metadata": {},
     "output_type": "execute_result"
    }
   ],
   "source": [
    "# Llamar a la función\n",
    "multiplicar(2, 3)"
   ]
  },
  {
   "attachments": {},
   "cell_type": "markdown",
   "metadata": {},
   "source": [
    "Las funciones pueden tener valores por defecto. Aquí, se distinguen dos tipos de argumentos:\n",
    "* **Argumentos posicionales (positional arguments)**: son los que se pasan en el orden en el que se definen en la función.\n",
    "* **Argumentos por nombre (keyword arguments)**: son los que se pasan con el nombre del argumento."
   ]
  },
  {
   "cell_type": "code",
   "execution_count": 57,
   "metadata": {},
   "outputs": [],
   "source": [
    "# Función para sumar siete a un número\n",
    "def sumar_siete(a, b = 7):\n",
    "    return a + b"
   ]
  },
  {
   "cell_type": "markdown",
   "metadata": {},
   "source": [
    "## Ámbito de las variables"
   ]
  },
  {
   "attachments": {},
   "cell_type": "markdown",
   "metadata": {},
   "source": [
    "* El **ámbito** de una variable se refiere a la parte del programa en la que la variable es accesible.\n",
    "* Las variables que se definen dentro de una función solo son accesibles dentro de la función, es decir, tienen un **ámbito local**.\n",
    "* Las variables que se definen fuera de una función son accesibles en todo el programa, es decir, tienen un **ámbito global**.\n",
    "* Si una variable local y una global tienen el mismo nombre, **la variable local tendrá prioridad** dentro de la función.\n",
    "* Es posible acceder a una variable global dentro de una función utilizando la palabra clave `global`."
   ]
  },
  {
   "cell_type": "code",
   "execution_count": 58,
   "metadata": {},
   "outputs": [
    {
     "name": "stdout",
     "output_type": "stream",
     "text": [
      "Esto se va a imprimir\n"
     ]
    }
   ],
   "source": [
    "x = 'Esto no se va a imprimir'\n",
    "\n",
    "def imprimir():\n",
    "    x = 'Esto se va a imprimir'\n",
    "    print(x)\n",
    "\n",
    "imprimir()"
   ]
  },
  {
   "cell_type": "markdown",
   "metadata": {},
   "source": [
    "# Estructuras de datos"
   ]
  },
  {
   "cell_type": "markdown",
   "metadata": {},
   "source": [
    "## Listas"
   ]
  },
  {
   "attachments": {},
   "cell_type": "markdown",
   "metadata": {},
   "source": [
    "* Las listas son una estructura de datos que permite almacenar varios elementos.\n",
    "* Se definen utilizando corchetes [] y separando los elementos con comas ,."
   ]
  },
  {
   "cell_type": "code",
   "execution_count": 59,
   "metadata": {},
   "outputs": [],
   "source": [
    "# Crear una lista\n",
    "lista = [1, 2, 3, 4, 5, 'Hola', 'Ironhack']"
   ]
  },
  {
   "attachments": {},
   "cell_type": "markdown",
   "metadata": {},
   "source": [
    "* Las listas son mutables, lo que significa que se pueden modificar después de su creación.\n",
    "* Se puede acceder o extraer un elemento usando su índice\n",
    "* **En Python, ¡los índices empiezan en 0!**"
   ]
  },
  {
   "cell_type": "code",
   "execution_count": 60,
   "metadata": {},
   "outputs": [
    {
     "data": {
      "text/plain": [
       "1"
      ]
     },
     "execution_count": 60,
     "metadata": {},
     "output_type": "execute_result"
    }
   ],
   "source": [
    "# Extraer un elemento de la lista\n",
    "lista[0]"
   ]
  },
  {
   "cell_type": "code",
   "execution_count": 63,
   "metadata": {},
   "outputs": [
    {
     "data": {
      "text/plain": [
       "['Modificado', 2, 3]"
      ]
     },
     "execution_count": 63,
     "metadata": {},
     "output_type": "execute_result"
    }
   ],
   "source": [
    "# Extraer varios elementos de la lista\n",
    "lista[0:3]"
   ]
  },
  {
   "cell_type": "code",
   "execution_count": 68,
   "metadata": {},
   "outputs": [
    {
     "data": {
      "text/plain": [
       "'Ironhack'"
      ]
     },
     "execution_count": 68,
     "metadata": {},
     "output_type": "execute_result"
    }
   ],
   "source": [
    "# Extraer el último elemento de la lista\n",
    "lista[-1]"
   ]
  },
  {
   "cell_type": "code",
   "execution_count": 69,
   "metadata": {},
   "outputs": [
    {
     "data": {
      "text/plain": [
       "[5, 'Hola', 'Ironhack']"
      ]
     },
     "execution_count": 69,
     "metadata": {},
     "output_type": "execute_result"
    }
   ],
   "source": [
    "# Extraer varios elementos desde el final\n",
    "lista[-3:]"
   ]
  },
  {
   "cell_type": "code",
   "execution_count": 61,
   "metadata": {},
   "outputs": [],
   "source": [
    "# Guardar el elemento en una variable\n",
    "x = lista[0]"
   ]
  },
  {
   "cell_type": "code",
   "execution_count": 62,
   "metadata": {},
   "outputs": [
    {
     "name": "stdout",
     "output_type": "stream",
     "text": [
      "['Modificado', 2, 3, 4, 5, 'Hola', 'Ironhack']\n"
     ]
    }
   ],
   "source": [
    "# Modificar un elemento de la lista\n",
    "lista[0] = 'Modificado'\n",
    "print(lista)"
   ]
  },
  {
   "attachments": {},
   "cell_type": "markdown",
   "metadata": {},
   "source": [
    "* Podemos añadir elementos a una lista con el método `append()`\n"
   ]
  },
  {
   "cell_type": "code",
   "execution_count": 65,
   "metadata": {},
   "outputs": [
    {
     "name": "stdout",
     "output_type": "stream",
     "text": [
      "['Modificado', 2, 3, 4, 5, 'Hola', 'Ironhack', 'Esto es nuevo']\n"
     ]
    }
   ],
   "source": [
    "lista.append('Esto es nuevo')\n",
    "print(lista)"
   ]
  },
  {
   "attachments": {},
   "cell_type": "markdown",
   "metadata": {},
   "source": [
    "* También podemos eliminar elementos con `remove()`"
   ]
  },
  {
   "cell_type": "code",
   "execution_count": 67,
   "metadata": {},
   "outputs": [
    {
     "name": "stdout",
     "output_type": "stream",
     "text": [
      "['Modificado', 2, 3, 4, 5, 'Hola', 'Ironhack']\n"
     ]
    }
   ],
   "source": [
    "lista.remove('Esto es nuevo')\n",
    "print(lista)"
   ]
  },
  {
   "cell_type": "markdown",
   "metadata": {},
   "source": [
    "## Tuplas"
   ]
  },
  {
   "cell_type": "markdown",
   "metadata": {},
   "source": [
    "* Las tuplas son similares a las listas, pero son inmutables, lo que significa que no se pueden modificar después de su creación.\n",
    "* Se definen con paréntesis () y separando los elementos con comas ,."
   ]
  },
  {
   "cell_type": "code",
   "execution_count": 71,
   "metadata": {},
   "outputs": [],
   "source": [
    "# Definir una tupla\n",
    "tupla = ('Uno', 'Dos', 'Tres')"
   ]
  },
  {
   "cell_type": "code",
   "execution_count": 72,
   "metadata": {},
   "outputs": [
    {
     "ename": "TypeError",
     "evalue": "'tuple' object does not support item assignment",
     "output_type": "error",
     "traceback": [
      "\u001b[1;31m---------------------------------------------------------------------------\u001b[0m",
      "\u001b[1;31mTypeError\u001b[0m                                 Traceback (most recent call last)",
      "Cell \u001b[1;32mIn[72], line 2\u001b[0m\n\u001b[0;32m      1\u001b[0m \u001b[39m# ¿Qué pasa si intentamos modificar un elemento de la tupla?\u001b[39;00m\n\u001b[1;32m----> 2\u001b[0m tupla[\u001b[39m0\u001b[39;49m] \u001b[39m=\u001b[39m \u001b[39m'\u001b[39m\u001b[39mModificado\u001b[39m\u001b[39m'\u001b[39m\n",
      "\u001b[1;31mTypeError\u001b[0m: 'tuple' object does not support item assignment"
     ]
    }
   ],
   "source": [
    "# ¿Qué pasa si intentamos modificar un elemento de la tupla?\n",
    "tupla[0] = 'Modificado'"
   ]
  },
  {
   "cell_type": "code",
   "execution_count": 73,
   "metadata": {},
   "outputs": [
    {
     "data": {
      "text/plain": [
       "'Uno'"
      ]
     },
     "execution_count": 73,
     "metadata": {},
     "output_type": "execute_result"
    }
   ],
   "source": [
    "# ¿Y podemos acceder a un elemento de la tupla?\n",
    "tupla[0]"
   ]
  },
  {
   "cell_type": "markdown",
   "metadata": {},
   "source": [
    "## Diccionarios"
   ]
  },
  {
   "cell_type": "markdown",
   "metadata": {},
   "source": [
    "* Los diccionarios son una estructura de datos que permite almacenar pares clave-valor.\n",
    "* Se definen utilizando llaves {} y separando los pares clave-valor con comas ,."
   ]
  },
  {
   "cell_type": "code",
   "execution_count": 74,
   "metadata": {},
   "outputs": [],
   "source": [
    "# Definir un diccionario\n",
    "diccionario = {1: 'Uno', 2: 'Dos', 3: 'Tres'}"
   ]
  },
  {
   "cell_type": "code",
   "execution_count": 75,
   "metadata": {},
   "outputs": [
    {
     "data": {
      "text/plain": [
       "'Uno'"
      ]
     },
     "execution_count": 75,
     "metadata": {},
     "output_type": "execute_result"
    }
   ],
   "source": [
    "# Acceder a un elemento del diccionario\n",
    "diccionario[1]"
   ]
  },
  {
   "cell_type": "code",
   "execution_count": 77,
   "metadata": {},
   "outputs": [
    {
     "name": "stdout",
     "output_type": "stream",
     "text": [
      "{1: 'Modificado', 2: 'Dos', 3: 'Tres'}\n"
     ]
    }
   ],
   "source": [
    "# ¿Podemos modificar un elemento del diccionario?\n",
    "diccionario[1] = 'Modificado'\n",
    "print(diccionario)"
   ]
  },
  {
   "cell_type": "code",
   "execution_count": 80,
   "metadata": {},
   "outputs": [],
   "source": [
    "# Añaadir un elemento al diccionario\n",
    "diccionario[4] = 'Cuatro'"
   ]
  },
  {
   "cell_type": "code",
   "execution_count": 81,
   "metadata": {},
   "outputs": [
    {
     "data": {
      "text/plain": [
       "{1: 'Modificado', 2: 'Dos', 3: 'Tres'}"
      ]
     },
     "execution_count": 81,
     "metadata": {},
     "output_type": "execute_result"
    }
   ],
   "source": [
    "# Eliminar un elemento del diccionario\n",
    "del diccionario[4]\n",
    "diccionario"
   ]
  },
  {
   "attachments": {},
   "cell_type": "markdown",
   "metadata": {},
   "source": [
    "## Estructuras anidadas"
   ]
  },
  {
   "cell_type": "markdown",
   "metadata": {},
   "source": [
    "Es posible anidar estructuras de datos, es decir, tener una lista dentro de otra lista, o un diccionario dentro de otro diccionario."
   ]
  },
  {
   "cell_type": "code",
   "execution_count": 82,
   "metadata": {},
   "outputs": [],
   "source": [
    "# Definir una lista de listas\n",
    "lista_anidada = [[1, 2, 3, 4], ['Uno', 'Dos', 'Tres', 'Cuatro']]"
   ]
  },
  {
   "cell_type": "code",
   "execution_count": 83,
   "metadata": {},
   "outputs": [
    {
     "data": {
      "text/plain": [
       "1"
      ]
     },
     "execution_count": 83,
     "metadata": {},
     "output_type": "execute_result"
    }
   ],
   "source": [
    "# Acceder a un elemento de la lista anidada\n",
    "lista_anidada[0][0]"
   ]
  },
  {
   "cell_type": "code",
   "execution_count": 84,
   "metadata": {},
   "outputs": [],
   "source": [
    "# Mezclar estructuras de datos\n",
    "lista_anidada_2 = {1: [1, 2, 3, 4], 2: ('Uno', 'Dos', 'Tres', 'Cuatro')}"
   ]
  },
  {
   "cell_type": "markdown",
   "metadata": {},
   "source": [
    "## Extra: conjuntos"
   ]
  },
  {
   "attachments": {},
   "cell_type": "markdown",
   "metadata": {},
   "source": [
    "* Los conjuntos son una estructura de datos que permite almacenar elementos únicos, es decir, no se permiten elementos repetidos.\n",
    "* Se definen utilizando llaves {} o la función `set()`."
   ]
  },
  {
   "cell_type": "code",
   "execution_count": 88,
   "metadata": {},
   "outputs": [
    {
     "data": {
      "text/plain": [
       "{1, 2}"
      ]
     },
     "execution_count": 88,
     "metadata": {},
     "output_type": "execute_result"
    }
   ],
   "source": [
    "# Definir un conjunto\n",
    "conjunto = {1, 1, 1, 1, 1, 2}\n",
    "conjunto"
   ]
  },
  {
   "cell_type": "markdown",
   "metadata": {},
   "source": [
    "# Trabajo con archivos"
   ]
  },
  {
   "cell_type": "markdown",
   "metadata": {},
   "source": [
    "* Es posible leer, modificar y guardar archivos de texto con Python."
   ]
  },
  {
   "cell_type": "code",
   "execution_count": 104,
   "metadata": {},
   "outputs": [],
   "source": [
    "# Abre archivo.txt en modo lectura\n",
    "archivo = open('archivo.txt', 'r')"
   ]
  },
  {
   "cell_type": "code",
   "execution_count": 105,
   "metadata": {},
   "outputs": [
    {
     "data": {
      "text/plain": [
       "'Una vez vi al Malaga en Champions...'"
      ]
     },
     "execution_count": 105,
     "metadata": {},
     "output_type": "execute_result"
    }
   ],
   "source": [
    "# Lee el archivo\n",
    "texto = archivo.read()\n",
    "texto"
   ]
  },
  {
   "cell_type": "code",
   "execution_count": 106,
   "metadata": {},
   "outputs": [],
   "source": [
    "# Acuérdate de cerrar el archivo para liberar recursos\n",
    "archivo.close()"
   ]
  },
  {
   "cell_type": "code",
   "execution_count": 107,
   "metadata": {},
   "outputs": [
    {
     "name": "stdout",
     "output_type": "stream",
     "text": [
      "Una vez vi al Malaga en Champions...\n"
     ]
    }
   ],
   "source": [
    "# Puedes hacerlo de forma más sencilla con `with`\n",
    "with open('archivo.txt', 'r') as archivo:\n",
    "    texto = archivo.read()\n",
    "\n",
    "print(texto)"
   ]
  },
  {
   "cell_type": "code",
   "execution_count": 112,
   "metadata": {},
   "outputs": [],
   "source": [
    "# Abre archivo.txt en modo escritura\n",
    "with open('archivo.txt', 'w') as archivo:\n",
    "    archivo.write('Una vez vi al Malaga en Champions... ')"
   ]
  },
  {
   "cell_type": "code",
   "execution_count": 111,
   "metadata": {},
   "outputs": [],
   "source": [
    "# Añade texto al archivo\n",
    "with open('archivo.txt', 'a') as archivo:\n",
    "    archivo.write('Esperemos que vuelva a pasar')"
   ]
  },
  {
   "attachments": {},
   "cell_type": "markdown",
   "metadata": {},
   "source": [
    "# Errores y manejo"
   ]
  },
  {
   "attachments": {},
   "cell_type": "markdown",
   "metadata": {},
   "source": [
    "* Los errores en Python pueden ocurrir por diversas razones, como una sintaxis incorrecta, una variable inexistente o una operación inválida.\n",
    "  * `SyntaxError`: generado cuando se introduce una sintaxis incorrecta en el código, como un paréntesis faltante, un signo de puntuación incorrecto, una variable mal escrita, entre otros.\n",
    "  * `NameError`: se da cuando se utiliza una variable que no ha sido definida previamente en el programa.\n",
    "  * `TypeError`: surge cuando se intenta realizar una operación entre dos objetos que no son compatibles entre sí, como una suma entre un número y una cadena de texto.\n",
    "  * `IndexError`: ocurre cuando se intenta acceder a un índice que no existe dentro de una lista o una tupla.\n",
    "  * Y muchos, muchos más..."
   ]
  },
  {
   "cell_type": "code",
   "execution_count": 119,
   "metadata": {},
   "outputs": [
    {
     "ename": "TypeError",
     "evalue": "unsupported operand type(s) for +: 'int' and 'str'",
     "output_type": "error",
     "traceback": [
      "\u001b[1;31m---------------------------------------------------------------------------\u001b[0m",
      "\u001b[1;31mTypeError\u001b[0m                                 Traceback (most recent call last)",
      "Cell \u001b[1;32mIn[119], line 3\u001b[0m\n\u001b[0;32m      1\u001b[0m \u001b[39m# Forzar un error\u001b[39;00m\n\u001b[0;32m      2\u001b[0m x \u001b[39m=\u001b[39m \u001b[39m3\u001b[39m\n\u001b[1;32m----> 3\u001b[0m x \u001b[39m+\u001b[39;49m \u001b[39m'\u001b[39;49m\u001b[39ma\u001b[39;49m\u001b[39m'\u001b[39;49m\n",
      "\u001b[1;31mTypeError\u001b[0m: unsupported operand type(s) for +: 'int' and 'str'"
     ]
    }
   ],
   "source": [
    "# Forzar un error\n",
    "x = 3\n",
    "x + 'a'"
   ]
  },
  {
   "attachments": {},
   "cell_type": "markdown",
   "metadata": {},
   "source": [
    "* El manejo de errores en Python se realiza utilizando las sentencias `try` y `except`.\n",
    "* Deben usarse con cuidado: enmascarar un error puede ocultar un problema más grave, como un mal planteamiento del programa."
   ]
  },
  {
   "cell_type": "code",
   "execution_count": 120,
   "metadata": {},
   "outputs": [
    {
     "name": "stdout",
     "output_type": "stream",
     "text": [
      "¿Qué intentas? Revisa tu código\n",
      "1.0\n",
      "1.0\n",
      "1.0\n",
      "1.0\n",
      "1.0\n",
      "1.0\n",
      "1.0\n",
      "1.0\n",
      "1.0\n"
     ]
    }
   ],
   "source": [
    "# Manejar errores con try except\n",
    "for x in range(0, 10):\n",
    "    try:\n",
    "        print(x / x)\n",
    "    except ZeroDivisionError: # Si el error es de división entre cero\n",
    "        print('¿Qué intentas? Revisa tu código')"
   ]
  },
  {
   "cell_type": "markdown",
   "metadata": {},
   "source": [
    "# Importar librerías"
   ]
  },
  {
   "attachments": {},
   "cell_type": "markdown",
   "metadata": {},
   "source": [
    "* Las librerías son conjuntos de herramientas y funciones que pueden ser importadas y utilizadas dentro de un programa Python.\n",
    "* Para utilizarlas, es necesario importarla utilizando la sentencia `import`.\n"
   ]
  },
  {
   "cell_type": "code",
   "execution_count": 121,
   "metadata": {},
   "outputs": [],
   "source": [
    "# Importa un módulo\tcompleto\n",
    "import math"
   ]
  },
  {
   "cell_type": "code",
   "execution_count": 122,
   "metadata": {},
   "outputs": [],
   "source": [
    "# Importa una función específica\n",
    "from math import sqrt"
   ]
  },
  {
   "cell_type": "code",
   "execution_count": 123,
   "metadata": {},
   "outputs": [
    {
     "data": {
      "text/plain": [
       "2.0"
      ]
     },
     "execution_count": 123,
     "metadata": {},
     "output_type": "execute_result"
    }
   ],
   "source": [
    "# Luego podemos usarlas con normalidad\n",
    "sqrt(4)"
   ]
  },
  {
   "cell_type": "markdown",
   "metadata": {},
   "source": [
    "## Biblioteca estándar de Python"
   ]
  },
  {
   "attachments": {},
   "cell_type": "markdown",
   "metadata": {},
   "source": [
    "* La biblioteca estándar de Python es un conjunto de módulos y paquetes que vienen incluidos con la instalación de Python.\n",
    "* Proporcionan una amplia variedad de herramientas y funciones muy útiles.\n",
    "* Algunos de los módulos más comunes son los siguientes:\n",
    "    * `os`: para crear y eliminar archivos y directorios.\n",
    "    * `math`: para cálculos matemáticos complejos, como el seno, coseno y tangente.\n",
    "    * `random`: para generar números aleatorios.\n",
    "    * `datetime`: para trabajar con fechas y tiempos.\n",
    "    * `re`: para expresiones regulares."
   ]
  },
  {
   "cell_type": "code",
   "execution_count": 126,
   "metadata": {},
   "outputs": [],
   "source": [
    "# Importa de la librería estándar\n",
    "import random"
   ]
  },
  {
   "cell_type": "code",
   "execution_count": 137,
   "metadata": {},
   "outputs": [
    {
     "data": {
      "text/plain": [
       "1"
      ]
     },
     "execution_count": 137,
     "metadata": {},
     "output_type": "execute_result"
    }
   ],
   "source": [
    "# Genera un número aleatorio entre 0 y 1\n",
    "random.randint(0, 1)"
   ]
  },
  {
   "attachments": {},
   "cell_type": "markdown",
   "metadata": {},
   "source": [
    "## Instalación de librerías"
   ]
  },
  {
   "cell_type": "markdown",
   "metadata": {},
   "source": [
    "* Para instalar librerías en Python, puedes usar el gestor de paquetes de Python, `pip`. Para instalar una librería, simplemente escribe `pip install nombre_de_la_libreria`."
   ]
  },
  {
   "cell_type": "code",
   "execution_count": 3,
   "metadata": {},
   "outputs": [
    {
     "name": "stdout",
     "output_type": "stream",
     "text": [
      "Requirement already satisfied: pandas in c:\\users\\jgcha\\appdata\\local\\programs\\python\\python310\\lib\\site-packages (1.3.4)\n",
      "Requirement already satisfied: numpy>=1.21.0 in c:\\users\\jgcha\\appdata\\local\\programs\\python\\python310\\lib\\site-packages (from pandas) (1.23.5)\n",
      "Requirement already satisfied: pytz>=2017.3 in c:\\users\\jgcha\\appdata\\local\\programs\\python\\python310\\lib\\site-packages (from pandas) (2021.3)\n",
      "Requirement already satisfied: python-dateutil>=2.7.3 in c:\\users\\jgcha\\appdata\\local\\programs\\python\\python310\\lib\\site-packages (from pandas) (2.8.2)\n",
      "Requirement already satisfied: six>=1.5 in c:\\users\\jgcha\\appdata\\local\\programs\\python\\python310\\lib\\site-packages (from python-dateutil>=2.7.3->pandas) (1.15.0)\n"
     ]
    },
    {
     "name": "stderr",
     "output_type": "stream",
     "text": [
      "\n",
      "[notice] A new release of pip available: 22.3.1 -> 23.0.1\n",
      "[notice] To update, run: python.exe -m pip install --upgrade pip\n"
     ]
    }
   ],
   "source": [
    "# Instalar en Google Colab\n",
    "!pip install pandas"
   ]
  },
  {
   "attachments": {},
   "cell_type": "markdown",
   "metadata": {},
   "source": [
    "# Extra: Pandas"
   ]
  }
 ],
 "metadata": {
  "kernelspec": {
   "display_name": "Python 3",
   "language": "python",
   "name": "python3"
  },
  "language_info": {
   "codemirror_mode": {
    "name": "ipython",
    "version": 3
   },
   "file_extension": ".py",
   "mimetype": "text/x-python",
   "name": "python",
   "nbconvert_exporter": "python",
   "pygments_lexer": "ipython3",
   "version": "3.10.9"
  },
  "orig_nbformat": 4
 },
 "nbformat": 4,
 "nbformat_minor": 2
}
